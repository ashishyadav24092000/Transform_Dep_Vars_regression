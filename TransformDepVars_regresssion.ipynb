{
 "cells": [
  {
   "cell_type": "code",
   "execution_count": 1,
   "id": "078dd12a",
   "metadata": {},
   "outputs": [
    {
     "data": {
      "text/html": [
       "<div>\n",
       "<style scoped>\n",
       "    .dataframe tbody tr th:only-of-type {\n",
       "        vertical-align: middle;\n",
       "    }\n",
       "\n",
       "    .dataframe tbody tr th {\n",
       "        vertical-align: top;\n",
       "    }\n",
       "\n",
       "    .dataframe thead th {\n",
       "        text-align: right;\n",
       "    }\n",
       "</style>\n",
       "<table border=\"1\" class=\"dataframe\">\n",
       "  <thead>\n",
       "    <tr style=\"text-align: right;\">\n",
       "      <th></th>\n",
       "      <th>MilesperGallon</th>\n",
       "      <th>Weight</th>\n",
       "    </tr>\n",
       "  </thead>\n",
       "  <tbody>\n",
       "    <tr>\n",
       "      <th>0</th>\n",
       "      <td>28.7</td>\n",
       "      <td>2289</td>\n",
       "    </tr>\n",
       "    <tr>\n",
       "      <th>1</th>\n",
       "      <td>29.2</td>\n",
       "      <td>2113</td>\n",
       "    </tr>\n",
       "    <tr>\n",
       "      <th>2</th>\n",
       "      <td>34.2</td>\n",
       "      <td>2180</td>\n",
       "    </tr>\n",
       "    <tr>\n",
       "      <th>3</th>\n",
       "      <td>27.9</td>\n",
       "      <td>2448</td>\n",
       "    </tr>\n",
       "    <tr>\n",
       "      <th>4</th>\n",
       "      <td>33.3</td>\n",
       "      <td>2026</td>\n",
       "    </tr>\n",
       "    <tr>\n",
       "      <th>5</th>\n",
       "      <td>26.4</td>\n",
       "      <td>2702</td>\n",
       "    </tr>\n",
       "    <tr>\n",
       "      <th>6</th>\n",
       "      <td>23.9</td>\n",
       "      <td>2657</td>\n",
       "    </tr>\n",
       "    <tr>\n",
       "      <th>7</th>\n",
       "      <td>30.5</td>\n",
       "      <td>2106</td>\n",
       "    </tr>\n",
       "    <tr>\n",
       "      <th>8</th>\n",
       "      <td>18.1</td>\n",
       "      <td>3226</td>\n",
       "    </tr>\n",
       "    <tr>\n",
       "      <th>9</th>\n",
       "      <td>19.5</td>\n",
       "      <td>3213</td>\n",
       "    </tr>\n",
       "    <tr>\n",
       "      <th>10</th>\n",
       "      <td>14.3</td>\n",
       "      <td>3607</td>\n",
       "    </tr>\n",
       "    <tr>\n",
       "      <th>11</th>\n",
       "      <td>20.9</td>\n",
       "      <td>2888</td>\n",
       "    </tr>\n",
       "  </tbody>\n",
       "</table>\n",
       "</div>"
      ],
      "text/plain": [
       "    MilesperGallon  Weight\n",
       "0             28.7    2289\n",
       "1             29.2    2113\n",
       "2             34.2    2180\n",
       "3             27.9    2448\n",
       "4             33.3    2026\n",
       "5             26.4    2702\n",
       "6             23.9    2657\n",
       "7             30.5    2106\n",
       "8             18.1    3226\n",
       "9             19.5    3213\n",
       "10            14.3    3607\n",
       "11            20.9    2888"
      ]
     },
     "execution_count": 1,
     "metadata": {},
     "output_type": "execute_result"
    }
   ],
   "source": [
    "import pandas as pd\n",
    "\n",
    "data = pd.read_excel(\"/home/ashish/projects/TransformDepVars_regression/MPG.xlsx\")\n",
    "data"
   ]
  },
  {
   "cell_type": "code",
   "execution_count": 2,
   "id": "3c9cf02e",
   "metadata": {},
   "outputs": [
    {
     "data": {
      "text/plain": [
       "Text(0.5, 1.0, 'WEight VS MilesperGAllon')"
      ]
     },
     "execution_count": 2,
     "metadata": {},
     "output_type": "execute_result"
    },
    {
     "data": {
      "image/png": "[encoded data removed]",
      "text/plain": [
       "<Figure size 432x288 with 1 Axes>"
      ]
     },
     "metadata": {
      "needs_background": "light"
     },
     "output_type": "display_data"
    }
   ],
   "source": [
    "x = data['Weight']\n",
    "y = data['MilesperGallon']\n",
    "\n",
    "import matplotlib.pyplot as plt\n",
    "plt.scatter(x,y,color=\"blue\")\n",
    "plt.xlabel(\"WEIGHT\")\n",
    "plt.ylabel(\"MilesPerGAllon\")\n",
    "plt.title(\"WEight VS MilesperGAllon\")"
   ]
  },
  {
   "cell_type": "code",
   "execution_count": 3,
   "id": "abbec9f8",
   "metadata": {},
   "outputs": [
    {
     "name": "stderr",
     "output_type": "stream",
     "text": [
      "/home/ashish/anaconda3/lib/python3.8/site-packages/scipy/stats/stats.py:1603: UserWarning: kurtosistest only valid for n>=20 ... continuing anyway, n=12\n",
      "  warnings.warn(\"kurtosistest only valid for n>=20 ... continuing \"\n"
     ]
    },
    {
     "data": {
      "text/html": [
       "<table class=\"simpletable\">\n",
       "<caption>OLS Regression Results</caption>\n",
       "<tr>\n",
       "  <th>Dep. Variable:</th>     <td>MilesperGallon</td>  <th>  R-squared:         </th> <td>   0.935</td>\n",
       "</tr>\n",
       "<tr>\n",
       "  <th>Model:</th>                   <td>OLS</td>       <th>  Adj. R-squared:    </th> <td>   0.929</td>\n",
       "</tr>\n",
       "<tr>\n",
       "  <th>Method:</th>             <td>Least Squares</td>  <th>  F-statistic:       </th> <td>   144.8</td>\n",
       "</tr>\n",
       "<tr>\n",
       "  <th>Date:</th>             <td>Sun, 30 Jan 2022</td> <th>  Prob (F-statistic):</th> <td>2.85e-07</td>\n",
       "</tr>\n",
       "<tr>\n",
       "  <th>Time:</th>                 <td>03:56:53</td>     <th>  Log-Likelihood:    </th> <td> -22.091</td>\n",
       "</tr>\n",
       "<tr>\n",
       "  <th>No. Observations:</th>      <td>    12</td>      <th>  AIC:               </th> <td>   48.18</td>\n",
       "</tr>\n",
       "<tr>\n",
       "  <th>Df Residuals:</th>          <td>    10</td>      <th>  BIC:               </th> <td>   49.15</td>\n",
       "</tr>\n",
       "<tr>\n",
       "  <th>Df Model:</th>              <td>     1</td>      <th>                     </th>     <td> </td>   \n",
       "</tr>\n",
       "<tr>\n",
       "  <th>Covariance Type:</th>      <td>nonrobust</td>    <th>                     </th>     <td> </td>   \n",
       "</tr>\n",
       "</table>\n",
       "<table class=\"simpletable\">\n",
       "<tr>\n",
       "     <td></td>       <th>coef</th>     <th>std err</th>      <th>t</th>      <th>P>|t|</th>  <th>[0.025</th>    <th>0.975]</th>  \n",
       "</tr>\n",
       "<tr>\n",
       "  <th>const</th>  <td>   56.0957</td> <td>    2.582</td> <td>   21.725</td> <td> 0.000</td> <td>   50.342</td> <td>   61.849</td>\n",
       "</tr>\n",
       "<tr>\n",
       "  <th>Weight</th> <td>   -0.0116</td> <td>    0.001</td> <td>  -12.032</td> <td> 0.000</td> <td>   -0.014</td> <td>   -0.009</td>\n",
       "</tr>\n",
       "</table>\n",
       "<table class=\"simpletable\">\n",
       "<tr>\n",
       "  <th>Omnibus:</th>       <td> 2.266</td> <th>  Durbin-Watson:     </th> <td>   2.213</td>\n",
       "</tr>\n",
       "<tr>\n",
       "  <th>Prob(Omnibus):</th> <td> 0.322</td> <th>  Jarque-Bera (JB):  </th> <td>   0.951</td>\n",
       "</tr>\n",
       "<tr>\n",
       "  <th>Skew:</th>          <td> 0.690</td> <th>  Prob(JB):          </th> <td>   0.621</td>\n",
       "</tr>\n",
       "<tr>\n",
       "  <th>Kurtosis:</th>      <td> 3.025</td> <th>  Cond. No.          </th> <td>1.43e+04</td>\n",
       "</tr>\n",
       "</table><br/><br/>Notes:<br/>[1] Standard Errors assume that the covariance matrix of the errors is correctly specified.<br/>[2] The condition number is large, 1.43e+04. This might indicate that there are<br/>strong multicollinearity or other numerical problems."
      ],
      "text/plain": [
       "<class 'statsmodels.iolib.summary.Summary'>\n",
       "\"\"\"\n",
       "                            OLS Regression Results                            \n",
       "==============================================================================\n",
       "Dep. Variable:         MilesperGallon   R-squared:                       0.935\n",
       "Model:                            OLS   Adj. R-squared:                  0.929\n",
       "Method:                 Least Squares   F-statistic:                     144.8\n",
       "Date:                Sun, 30 Jan 2022   Prob (F-statistic):           2.85e-07\n",
       "Time:                        03:56:53   Log-Likelihood:                -22.091\n",
       "No. Observations:                  12   AIC:                             48.18\n",
       "Df Residuals:                      10   BIC:                             49.15\n",
       "Df Model:                           1                                         \n",
       "Covariance Type:            nonrobust                                         \n",
       "==============================================================================\n",
       "                 coef    std err          t      P>|t|      [0.025      0.975]\n",
       "------------------------------------------------------------------------------\n",
       "const         56.0957      2.582     21.725      0.000      50.342      61.849\n",
       "Weight        -0.0116      0.001    -12.032      0.000      -0.014      -0.009\n",
       "==============================================================================\n",
       "Omnibus:                        2.266   Durbin-Watson:                   2.213\n",
       "Prob(Omnibus):                  0.322   Jarque-Bera (JB):                0.951\n",
       "Skew:                           0.690   Prob(JB):                        0.621\n",
       "Kurtosis:                       3.025   Cond. No.                     1.43e+04\n",
       "==============================================================================\n",
       "\n",
       "Notes:\n",
       "[1] Standard Errors assume that the covariance matrix of the errors is correctly specified.\n",
       "[2] The condition number is large, 1.43e+04. This might indicate that there are\n",
       "strong multicollinearity or other numerical problems.\n",
       "\"\"\""
      ]
     },
     "execution_count": 3,
     "metadata": {},
     "output_type": "execute_result"
    }
   ],
   "source": [
    "import statsmodels.api as sm\n",
    "\n",
    "x = sm.add_constant(x)\n",
    "model = sm.OLS(y,x).fit()\n",
    "model.summary()"
   ]
  },
  {
   "cell_type": "markdown",
   "id": "a766b901",
   "metadata": {},
   "source": [
    "## So individual variables and overall model is significant it can be observed from the OLS model."
   ]
  },
  {
   "cell_type": "markdown",
   "id": "b172d43a",
   "metadata": {},
   "source": [
    "## Plotting standardized plot and checking condition for significance"
   ]
  },
  {
   "cell_type": "code",
   "execution_count": 5,
   "id": "a4996fc0",
   "metadata": {},
   "outputs": [
    {
     "data": {
      "text/plain": [
       "array([-0.44511273, -1.37252481,  2.08753315,  0.18422536,  0.47540179,\n",
       "        1.05668329, -0.75350063, -0.64311699, -0.25953343,  0.4879158 ,\n",
       "        0.12130227, -0.93927307])"
      ]
     },
     "execution_count": 5,
     "metadata": {},
     "output_type": "execute_result"
    }
   ],
   "source": [
    "residuals = model.resid_pearson\n",
    "residuals"
   ]
  },
  {
   "cell_type": "code",
   "execution_count": 7,
   "id": "d9ed0616",
   "metadata": {},
   "outputs": [
    {
     "data": {
      "text/plain": [
       "0     29.443573\n",
       "1     31.492839\n",
       "2     30.712721\n",
       "3     27.592247\n",
       "4     32.505829\n",
       "5     24.634783\n",
       "6     25.158743\n",
       "7     31.574344\n",
       "8     18.533557\n",
       "9     18.684924\n",
       "10    14.097361\n",
       "11    22.469081\n",
       "dtype: float64"
      ]
     },
     "execution_count": 7,
     "metadata": {},
     "output_type": "execute_result"
    }
   ],
   "source": [
    "y_hat = model.predict(x)\n",
    "y_hat"
   ]
  },
  {
   "cell_type": "code",
   "execution_count": 9,
   "id": "64215649",
   "metadata": {},
   "outputs": [
    {
     "data": {
      "text/plain": [
       "Text(0, 0.5, 'Residuals')"
      ]
     },
     "execution_count": 9,
     "metadata": {},
     "output_type": "execute_result"
    },
    {
     "data": {
      "image/png": "[encoded data removed]",
      "text/plain": [
       "<Figure size 432x288 with 1 Axes>"
      ]
     },
     "metadata": {
      "needs_background": "light"
     },
     "output_type": "display_data"
    }
   ],
   "source": [
    "plt.scatter(y_hat,residuals,color=\"green\")\n",
    "plt.xlabel(\"Expected Weights values\")\n",
    "plt.ylabel(\"Residuals\")"
   ]
  },
  {
   "cell_type": "markdown",
   "id": "f7d49013",
   "metadata": {},
   "source": [
    "## It can be easily observed that data points spread has a conical shape not a rectangle so its violating the condition of constant variance."
   ]
  },
  {
   "cell_type": "markdown",
   "id": "61c7ab4b",
   "metadata": {},
   "source": [
    "# RECTIFYING THIS MODEL"
   ]
  },
  {
   "cell_type": "code",
   "execution_count": 14,
   "id": "d08fb36a",
   "metadata": {},
   "outputs": [],
   "source": [
    "## transforming the dependent variable by taking its log \n",
    "## to remove the conical spread of data point in previos model.\n",
    "import numpy as np\n",
    "\n",
    "Y = np.log(y)"
   ]
  },
  {
   "cell_type": "code",
   "execution_count": 16,
   "id": "8b290700",
   "metadata": {},
   "outputs": [
    {
     "name": "stderr",
     "output_type": "stream",
     "text": [
      "/home/ashish/anaconda3/lib/python3.8/site-packages/scipy/stats/stats.py:1603: UserWarning: kurtosistest only valid for n>=20 ... continuing anyway, n=12\n",
      "  warnings.warn(\"kurtosistest only valid for n>=20 ... continuing \"\n"
     ]
    },
    {
     "data": {
      "text/html": [
       "<table class=\"simpletable\">\n",
       "<caption>OLS Regression Results</caption>\n",
       "<tr>\n",
       "  <th>Dep. Variable:</th>     <td>MilesperGallon</td>  <th>  R-squared:         </th> <td>   0.938</td>\n",
       "</tr>\n",
       "<tr>\n",
       "  <th>Model:</th>                   <td>OLS</td>       <th>  Adj. R-squared:    </th> <td>   0.932</td>\n",
       "</tr>\n",
       "<tr>\n",
       "  <th>Method:</th>             <td>Least Squares</td>  <th>  F-statistic:       </th> <td>   152.4</td>\n",
       "</tr>\n",
       "<tr>\n",
       "  <th>Date:</th>             <td>Sun, 30 Jan 2022</td> <th>  Prob (F-statistic):</th> <td>2.24e-07</td>\n",
       "</tr>\n",
       "<tr>\n",
       "  <th>Time:</th>                 <td>04:05:22</td>     <th>  Log-Likelihood:    </th> <td>  31.024</td>\n",
       "</tr>\n",
       "<tr>\n",
       "  <th>No. Observations:</th>      <td>    12</td>      <th>  AIC:               </th> <td>  -58.05</td>\n",
       "</tr>\n",
       "<tr>\n",
       "  <th>Df Residuals:</th>          <td>    10</td>      <th>  BIC:               </th> <td>  -57.08</td>\n",
       "</tr>\n",
       "<tr>\n",
       "  <th>Df Model:</th>              <td>     1</td>      <th>                     </th>     <td> </td>   \n",
       "</tr>\n",
       "<tr>\n",
       "  <th>Covariance Type:</th>      <td>nonrobust</td>    <th>                     </th>     <td> </td>   \n",
       "</tr>\n",
       "</table>\n",
       "<table class=\"simpletable\">\n",
       "<tr>\n",
       "     <td></td>       <th>coef</th>     <th>std err</th>      <th>t</th>      <th>P>|t|</th>  <th>[0.025</th>    <th>0.975]</th>  \n",
       "</tr>\n",
       "<tr>\n",
       "  <th>const</th>  <td>    0.5230</td> <td>    0.031</td> <td>   16.937</td> <td> 0.000</td> <td>    0.454</td> <td>    0.592</td>\n",
       "</tr>\n",
       "<tr>\n",
       "  <th>Weight</th> <td>   -0.0001</td> <td> 1.16e-05</td> <td>  -12.345</td> <td> 0.000</td> <td>   -0.000</td> <td>   -0.000</td>\n",
       "</tr>\n",
       "</table>\n",
       "<table class=\"simpletable\">\n",
       "<tr>\n",
       "  <th>Omnibus:</th>       <td> 0.188</td> <th>  Durbin-Watson:     </th> <td>   2.479</td>\n",
       "</tr>\n",
       "<tr>\n",
       "  <th>Prob(Omnibus):</th> <td> 0.910</td> <th>  Jarque-Bera (JB):  </th> <td>   0.375</td>\n",
       "</tr>\n",
       "<tr>\n",
       "  <th>Skew:</th>          <td> 0.150</td> <th>  Prob(JB):          </th> <td>   0.829</td>\n",
       "</tr>\n",
       "<tr>\n",
       "  <th>Kurtosis:</th>      <td> 2.188</td> <th>  Cond. No.          </th> <td>1.43e+04</td>\n",
       "</tr>\n",
       "</table><br/><br/>Notes:<br/>[1] Standard Errors assume that the covariance matrix of the errors is correctly specified.<br/>[2] The condition number is large, 1.43e+04. This might indicate that there are<br/>strong multicollinearity or other numerical problems."
      ],
      "text/plain": [
       "<class 'statsmodels.iolib.summary.Summary'>\n",
       "\"\"\"\n",
       "                            OLS Regression Results                            \n",
       "==============================================================================\n",
       "Dep. Variable:         MilesperGallon   R-squared:                       0.938\n",
       "Model:                            OLS   Adj. R-squared:                  0.932\n",
       "Method:                 Least Squares   F-statistic:                     152.4\n",
       "Date:                Sun, 30 Jan 2022   Prob (F-statistic):           2.24e-07\n",
       "Time:                        04:05:22   Log-Likelihood:                 31.024\n",
       "No. Observations:                  12   AIC:                            -58.05\n",
       "Df Residuals:                      10   BIC:                            -57.08\n",
       "Df Model:                           1                                         \n",
       "Covariance Type:            nonrobust                                         \n",
       "==============================================================================\n",
       "                 coef    std err          t      P>|t|      [0.025      0.975]\n",
       "------------------------------------------------------------------------------\n",
       "const          0.5230      0.031     16.937      0.000       0.454       0.592\n",
       "Weight        -0.0001   1.16e-05    -12.345      0.000      -0.000      -0.000\n",
       "==============================================================================\n",
       "Omnibus:                        0.188   Durbin-Watson:                   2.479\n",
       "Prob(Omnibus):                  0.910   Jarque-Bera (JB):                0.375\n",
       "Skew:                           0.150   Prob(JB):                        0.829\n",
       "Kurtosis:                       2.188   Cond. No.                     1.43e+04\n",
       "==============================================================================\n",
       "\n",
       "Notes:\n",
       "[1] Standard Errors assume that the covariance matrix of the errors is correctly specified.\n",
       "[2] The condition number is large, 1.43e+04. This might indicate that there are\n",
       "strong multicollinearity or other numerical problems.\n",
       "\"\"\""
      ]
     },
     "execution_count": 16,
     "metadata": {},
     "output_type": "execute_result"
    }
   ],
   "source": [
    "import statsmodels.api as sm\n",
    "\n",
    "x = sm.add_constant(x)\n",
    "model2 = sm.OLS(Y,x).fit()\n",
    "model2.summary()"
   ]
  },
  {
   "cell_type": "code",
   "execution_count": 18,
   "id": "a9231fb5",
   "metadata": {},
   "outputs": [
    {
     "data": {
      "text/plain": [
       "array([-0.22585863, -1.27284494,  1.05591414,  0.56043173, -0.34692646,\n",
       "        1.67515629,  0.0332787 , -0.79774277, -0.03626923,  1.05247937,\n",
       "       -1.47563668, -0.22198151])"
      ]
     },
     "execution_count": 18,
     "metadata": {},
     "output_type": "execute_result"
    }
   ],
   "source": [
    "residuals2 = model2.resid_pearson\n",
    "residuals2"
   ]
  },
  {
   "cell_type": "code",
   "execution_count": 21,
   "id": "4000e689",
   "metadata": {},
   "outputs": [
    {
     "data": {
      "text/plain": [
       "0     0.195973\n",
       "1     0.221118\n",
       "2     0.211546\n",
       "3     0.173256\n",
       "4     0.233548\n",
       "5     0.136967\n",
       "6     0.143396\n",
       "7     0.222118\n",
       "8     0.062102\n",
       "9     0.063959\n",
       "10    0.007668\n",
       "11    0.110393\n",
       "dtype: float64"
      ]
     },
     "execution_count": 21,
     "metadata": {},
     "output_type": "execute_result"
    }
   ],
   "source": [
    "y_hat2 = model2.predict(x)\n",
    "y_hat2"
   ]
  },
  {
   "cell_type": "code",
   "execution_count": 22,
   "id": "41e95193",
   "metadata": {},
   "outputs": [
    {
     "data": {
      "text/plain": [
       "Text(0, 0.5, 'Residuals')"
      ]
     },
     "execution_count": 22,
     "metadata": {},
     "output_type": "execute_result"
    },
    {
     "data": {
      "image/png": "[encoded data removed]",
      "text/plain": [
       "<Figure size 432x288 with 1 Axes>"
      ]
     },
     "metadata": {
      "needs_background": "light"
     },
     "output_type": "display_data"
    }
   ],
   "source": [
    "plt.scatter(y_hat,residuals2,color=\"green\")\n",
    "plt.xlabel(\"Expected Weights values\")\n",
    "plt.ylabel(\"Residuals\")"
   ]
  },
  {
   "cell_type": "markdown",
   "id": "83be073a",
   "metadata": {},
   "source": [
    "Since the conical spread is removed i.e. the variable variance acroos the plot is removed\n",
    "## Hence our model is rectified."
   ]
  },
  {
   "attachments": {
    "final.png": {
     "image/png": "[encoded data removed]"
    }
   },
   "cell_type": "markdown",
   "id": "91a80aba",
   "metadata": {},
   "source": [
    "![final.png](attachment:final.png)"
   ]
  }
 ],
 "metadata": {
  "kernelspec": {
   "display_name": "Python 3",
   "language": "python",
   "name": "python3"
  },
  "language_info": {
   "codemirror_mode": {
    "name": "ipython",
    "version": 3
   },
   "file_extension": ".py",
   "mimetype": "text/x-python",
   "name": "python",
   "nbconvert_exporter": "python",
   "pygments_lexer": "ipython3",
   "version": "3.8.8"
  }
 },
 "nbformat": 4,
 "nbformat_minor": 5
}
